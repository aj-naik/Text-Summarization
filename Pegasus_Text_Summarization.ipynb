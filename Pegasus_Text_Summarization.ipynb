{
  "nbformat": 4,
  "nbformat_minor": 0,
  "metadata": {
    "colab": {
      "name": "Pegasus-Text-Summarization.ipynb",
      "provenance": []
    },
    "kernelspec": {
      "name": "python3",
      "display_name": "Python 3"
    },
    "language_info": {
      "name": "python"
    },
    "accelerator": "GPU"
  },
  "cells": [
    {
      "cell_type": "code",
      "metadata": {
        "colab": {
          "base_uri": "https://localhost:8080/"
        },
        "id": "kIjeCW1oEtd_",
        "outputId": "e5285b46-db29-4dfe-a500-6822a41ae79d"
      },
      "source": [
        "!pip install transformers\n",
        "!pip install sentencepiece\n",
        "from transformers import PegasusForConditionalGeneration, PegasusTokenizer\n",
        "import torch"
      ],
      "execution_count": null,
      "outputs": [
        {
          "output_type": "stream",
          "text": [
            "Collecting transformers\n",
            "\u001b[?25l  Downloading https://files.pythonhosted.org/packages/d8/b2/57495b5309f09fa501866e225c84532d1fd89536ea62406b2181933fb418/transformers-4.5.1-py3-none-any.whl (2.1MB)\n",
            "\u001b[K     |████████████████████████████████| 2.1MB 5.7MB/s \n",
            "\u001b[?25hRequirement already satisfied: numpy>=1.17 in /usr/local/lib/python3.7/dist-packages (from transformers) (1.19.5)\n",
            "Requirement already satisfied: filelock in /usr/local/lib/python3.7/dist-packages (from transformers) (3.0.12)\n",
            "Collecting sacremoses\n",
            "\u001b[?25l  Downloading https://files.pythonhosted.org/packages/75/ee/67241dc87f266093c533a2d4d3d69438e57d7a90abb216fa076e7d475d4a/sacremoses-0.0.45-py3-none-any.whl (895kB)\n",
            "\u001b[K     |████████████████████████████████| 901kB 36.7MB/s \n",
            "\u001b[?25hRequirement already satisfied: regex!=2019.12.17 in /usr/local/lib/python3.7/dist-packages (from transformers) (2019.12.20)\n",
            "Requirement already satisfied: tqdm>=4.27 in /usr/local/lib/python3.7/dist-packages (from transformers) (4.41.1)\n",
            "Requirement already satisfied: requests in /usr/local/lib/python3.7/dist-packages (from transformers) (2.23.0)\n",
            "Requirement already satisfied: importlib-metadata; python_version < \"3.8\" in /usr/local/lib/python3.7/dist-packages (from transformers) (3.10.1)\n",
            "Requirement already satisfied: packaging in /usr/local/lib/python3.7/dist-packages (from transformers) (20.9)\n",
            "Collecting tokenizers<0.11,>=0.10.1\n",
            "\u001b[?25l  Downloading https://files.pythonhosted.org/packages/ae/04/5b870f26a858552025a62f1649c20d29d2672c02ff3c3fb4c688ca46467a/tokenizers-0.10.2-cp37-cp37m-manylinux2010_x86_64.whl (3.3MB)\n",
            "\u001b[K     |████████████████████████████████| 3.3MB 36.0MB/s \n",
            "\u001b[?25hRequirement already satisfied: click in /usr/local/lib/python3.7/dist-packages (from sacremoses->transformers) (7.1.2)\n",
            "Requirement already satisfied: six in /usr/local/lib/python3.7/dist-packages (from sacremoses->transformers) (1.15.0)\n",
            "Requirement already satisfied: joblib in /usr/local/lib/python3.7/dist-packages (from sacremoses->transformers) (1.0.1)\n",
            "Requirement already satisfied: urllib3!=1.25.0,!=1.25.1,<1.26,>=1.21.1 in /usr/local/lib/python3.7/dist-packages (from requests->transformers) (1.24.3)\n",
            "Requirement already satisfied: certifi>=2017.4.17 in /usr/local/lib/python3.7/dist-packages (from requests->transformers) (2020.12.5)\n",
            "Requirement already satisfied: chardet<4,>=3.0.2 in /usr/local/lib/python3.7/dist-packages (from requests->transformers) (3.0.4)\n",
            "Requirement already satisfied: idna<3,>=2.5 in /usr/local/lib/python3.7/dist-packages (from requests->transformers) (2.10)\n",
            "Requirement already satisfied: typing-extensions>=3.6.4; python_version < \"3.8\" in /usr/local/lib/python3.7/dist-packages (from importlib-metadata; python_version < \"3.8\"->transformers) (3.7.4.3)\n",
            "Requirement already satisfied: zipp>=0.5 in /usr/local/lib/python3.7/dist-packages (from importlib-metadata; python_version < \"3.8\"->transformers) (3.4.1)\n",
            "Requirement already satisfied: pyparsing>=2.0.2 in /usr/local/lib/python3.7/dist-packages (from packaging->transformers) (2.4.7)\n",
            "Installing collected packages: sacremoses, tokenizers, transformers\n",
            "Successfully installed sacremoses-0.0.45 tokenizers-0.10.2 transformers-4.5.1\n",
            "Collecting sentencepiece\n",
            "\u001b[?25l  Downloading https://files.pythonhosted.org/packages/f5/99/e0808cb947ba10f575839c43e8fafc9cc44e4a7a2c8f79c60db48220a577/sentencepiece-0.1.95-cp37-cp37m-manylinux2014_x86_64.whl (1.2MB)\n",
            "\u001b[K     |████████████████████████████████| 1.2MB 5.6MB/s \n",
            "\u001b[?25hInstalling collected packages: sentencepiece\n",
            "Successfully installed sentencepiece-0.1.95\n"
          ],
          "name": "stdout"
        }
      ]
    },
    {
      "cell_type": "code",
      "metadata": {
        "id": "xpgrdhXOFLia"
      },
      "source": [
        "src_text = [ \"In May, Churchill was still generally unpopular with many Conservatives and probably most of the Labour Party. Chamberlain \"\n",
        "            \"remained Conservative Party leader until October when ill health forced his resignation. By that time, Churchill had won the \"\n",
        "            \"doubters over and his succession as party leader was a formality.\"\n",
        "            \" \"\n",
        "            \"He began his premiership by forming a five-man war cabinet which included Chamberlain as Lord President of the Council, \"\n",
        "            \"Labour leader Clement Attlee as Lord Privy Seal (later as Deputy Prime Minister), Halifax as Foreign Secretary and Labour's \"\n",
        "            \"Arthur Greenwood as a minister without portfolio. In practice, these five were augmented by the service chiefs and ministers \"\n",
        "            \"who attended the majority of meetings. The cabinet changed in size and membership as the war progressed, one of the key \"\n",
        "            \"appointments being the leading trades unionist Ernest Bevin as Minister of Labour and National Service. In response to \"\n",
        "            \"previous criticisms that there had been no clear single minister in charge of the prosecution of the war, Churchill created \"\n",
        "            \"and took the additional position of Minister of Defence, making him the most powerful wartime Prime Minister in British \"\n",
        "            \"history. He drafted outside experts into government to fulfil vital functions, especially on the Home Front. These included \"\n",
        "            \"personal friends like Lord Beaverbrook and Frederick Lindemann, who became the government's scientific advisor.\"\n",
        "            \" \"\n",
        "            \"At the end of May, with the British Expeditionary Force in retreat to Dunkirk and the Fall of France seemingly imminent, \"\n",
        "            \"Halifax proposed that the government should explore the possibility of a negotiated peace settlement using the still-neutral \"\n",
        "            \"Mussolini as an intermediary. There were several high-level meetings from 26 to 28 May, including two with the French \"\n",
        "            \"premier Paul Reynaud. Churchill's resolve was to fight on, even if France capitulated, but his position remained precarious \"\n",
        "            \"until Chamberlain resolved to support him. Churchill had the full support of the two Labour members but knew he could not \"\n",
        "            \"survive as Prime Minister if both Chamberlain and Halifax were against him. In the end, by gaining the support of his outer \"\n",
        "            \"cabinet, Churchill outmanoeuvred Halifax and won Chamberlain over. Churchill believed that the only option was to fight on \"\n",
        "            \"and his use of rhetoric hardened public opinion against a peaceful resolution and prepared the British people for a long war \"\n",
        "            \"– Jenkins says Churchill's speeches were 'an inspiration for the nation, and a catharsis for Churchill himself'.\"\n",
        "            \" \"\n",
        "            \"His first speech as Prime Minister, delivered to the Commons on 13 May was the 'blood, toil, tears and sweat' speech. It was \"\n",
        "            \"little more than a short statement but, Jenkins says, 'it included phrases which have reverberated down the decades'.\" ]"
      ],
      "execution_count": null,
      "outputs": []
    },
    {
      "cell_type": "code",
      "metadata": {
        "id": "xFwRLFkXFkI7"
      },
      "source": [
        "model_name = 'google/pegasus-large'\n",
        "# device = 'cuda' if torch.cuda.is_available() else 'cpu'"
      ],
      "execution_count": null,
      "outputs": []
    },
    {
      "cell_type": "code",
      "metadata": {
        "id": "jGoYmXVfFvzz"
      },
      "source": [
        "tokenizer = PegasusTokenizer.from_pretrained(model_name)\n",
        "model = PegasusForConditionalGeneration.from_pretrained(model_name)\n"
      ],
      "execution_count": null,
      "outputs": []
    },
    {
      "cell_type": "code",
      "metadata": {
        "id": "jKi4LHzeHADM"
      },
      "source": [
        "batch = tokenizer(src_text, truncation=True, padding='longest', return_tensors=\"pt\")\n",
        "translated = model.generate(**batch)\n",
        "tgt_text = tokenizer.batch_decode(translated, skip_special_tokens=True)"
      ],
      "execution_count": null,
      "outputs": []
    },
    {
      "cell_type": "code",
      "metadata": {
        "colab": {
          "base_uri": "https://localhost:8080/",
          "height": 86
        },
        "id": "G_JTeEzDILZ1",
        "outputId": "d26d8761-33d3-40b9-b245-ca8b5b4e5efd"
      },
      "source": [
        "tgt_text[0]"
      ],
      "execution_count": null,
      "outputs": [
        {
          "output_type": "execute_result",
          "data": {
            "application/vnd.google.colaboratory.intrinsic+json": {
              "type": "string"
            },
            "text/plain": [
              "\"He began his premiership by forming a five-man war cabinet which included Chamberlain as Lord President of the Council, Labour leader Clement Attlee as Lord Privy Seal (later as Deputy Prime Minister), Halifax as Foreign Secretary and Labour's Arthur Greenwood as a minister without portfolio. Churchill believed that the only option was to fight on and his use of rhetoric hardened public opinion against a peaceful resolution and prepared the British people for a long war – Jenkins says Churchill's speeches were 'an inspiration for the nation, and a catharsis for Churchill himself'.\""
            ]
          },
          "metadata": {
            "tags": []
          },
          "execution_count": 16
        }
      ]
    },
    {
      "cell_type": "code",
      "metadata": {
        "id": "DuspwrP9LuIY"
      },
      "source": [
        ""
      ],
      "execution_count": null,
      "outputs": []
    }
  ]
}